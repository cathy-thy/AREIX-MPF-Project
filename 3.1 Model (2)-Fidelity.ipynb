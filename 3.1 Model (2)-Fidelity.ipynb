{
 "cells": [
  {
   "cell_type": "code",
   "execution_count": 27,
   "metadata": {},
   "outputs": [],
   "source": [
    "import pandas as pd\n",
    "import statsmodels.formula.api as smf\n",
    "import numpy as np\n",
    "import matplotlib.pyplot as plt\n",
    "from datetime import timedelta \n",
    "from datetime import date\n",
    "from datetime import datetime\n",
    "\n",
    "from dateutil.relativedelta import relativedelta"
   ]
  },
  {
   "cell_type": "markdown",
   "metadata": {},
   "source": [
    "## Global variable, set company"
   ]
  },
  {
   "cell_type": "code",
   "execution_count": 28,
   "metadata": {
    "scrolled": true
   },
   "outputs": [],
   "source": [
    "company = \"Fidelity\"  #<- change variable\n",
    "portfolios_number=500\n"
   ]
  },
  {
   "cell_type": "markdown",
   "metadata": {},
   "source": [
    "## Lists of funds"
   ]
  },
  {
   "cell_type": "code",
   "execution_count": 2,
   "metadata": {},
   "outputs": [
    {
     "name": "stdout",
     "output_type": "stream",
     "text": [
      "['Fidelity MPF Conservative Fund', 'Fidelity Hong Kong Equity Fund', 'Fidelity Growth Fund', 'Fidelity Balanced Fund', 'Fidelity Hong Kong Bond Fund', 'Fidelity Hong Kong Tracker Fund']\n"
     ]
    }
   ],
   "source": [
    "\n",
    "Allianz_fund_list = ['Allianz Asian Fund', 'Allianz Balanced Fund', 'Allianz Capital Stable Fund', 'Allianz Flexi Balanced Fund', 'Allianz Greater China Fund', 'Allianz Growth Fund', 'Allianz Hong Kong Fund', 'Allianz MPF Age 65 Plus Fund', 'Allianz MPF Conservative Fund', 'Allianz MPF Core Accumulation Fund', 'Allianz Oriental Pacific Fund', 'Allianz RMB Money Market Fund', 'Allianz Stable Growth Fund']\n",
    "Investco_fund_list = ['Investco Age 65 Plus Fund', 'Investco Asian Equity Fund', 'Investco Balanced Fund', 'Investco Capital Stable Fund', 'Investco Core Accumulation Fund', 'Investco Global Bond Fund', 'Investco Growth Fund', 'Investco Hong Kong and China Equity Fund', 'Investco Hang Seng Index Tracking Fund', 'Investco MPF Conservative Fund', 'Investco RMB Bond Fund']\n",
    "Fidelity_fund_list=['Fidelity Age 65 Plus Fund', 'Fidelity Asia Pacific Equity Fund', 'Fidelity Balanced Fund', 'Fidelity Capital Stable Fund', 'Fidelity Core Accumulation Fund', 'Fidelity Global Equity Fund', 'Fidelity Growth Fund', 'Fidelity Hong Kong Bond Fund', 'Fidelity Hong Kong Equity Fund', 'Fidelity Hong Kong Tracker Fund', 'Fidelity MPF Conservative Fund', 'Fidelity RMB Bond Fund', 'Fidelity World Bond Fund']\n",
    "\n",
    "Allianz_chinese_fund_list = ['Allianz Asian Fund', 'Allianz Greater China Fund', 'Allianz Oriental Pacific Fund', 'Allianz RMB Money Market Fund']\n",
    "Allianz_us_fund_list = ['Allianz Capital Stable Fund', 'Allianz Flexi Balanced Fund','Allianz MPF Age 65 Plus Fund','Allianz MPF Core Accumulation Fund', 'Allianz Stable Growth Fund']\n",
    "Allianz_GroupA_list = ['Allianz Asian Fund', 'Allianz Greater China Fund', 'Allianz Oriental Pacific Fund', 'Allianz RMB Money Market Fund','Allianz Capital Stable Fund', 'Allianz Flexi Balanced Fund','Allianz MPF Age 65 Plus Fund','Allianz MPF Core Accumulation Fund', 'Allianz Stable Growth Fund']\n",
    "\n",
    "Investco_chinese_fund_list = ['Investco Capital Stable Fund','Investco RMB Bond Fund','Investco Asian Equity Fund']\n",
    "Investco_us_fund_list = ['Investco Age 65 Plus Fund','Investco Core Accumulation Fund','Investco Global Bond Fund']\n",
    "Investco_GroupA_list =['Investco Capital Stable Fund','Investco RMB Bond Fund','Investco Asian Equity Fund','Investco Age 65 Plus Fund','Investco Core Accumulation Fund','Investco Global Bond Fund' ]\n",
    "\n",
    "Fidelity_chinese_fund_list =['Fidelity RMB Bond Fund','Fidelity Asia Pacific Equity Fund']\n",
    "Fidelity_us_fund_list =['Fidelity World Bond Fund','Fidelity Capital Stable Fund','Fidelity Age 65 Plus Fund', 'Fidelity Core Accumulation Fund','Fidelity Global Equity Fund']\n",
    "Fidelity_GroupA_list = ['Fidelity RMB Bond Fund','Fidelity Asia Pacific Equity Fund','Fidelity World Bond Fund','Fidelity Capital Stable Fund','Fidelity Age 65 Plus Fund', 'Fidelity Core Accumulation Fund','Fidelity Global Equity Fund' ]\n",
    "\n",
    "Allianz_GroupB_list = list(set(Allianz_fund_list) - set(Allianz_chinese_fund_list) - set(Allianz_us_fund_list))\n",
    "Investco_GroupB_list = list(set(Investco_fund_list) - set(Investco_chinese_fund_list) - set(Investco_us_fund_list))\n",
    "Fidelity_GroupB_list = list(set(Fidelity_fund_list) - set(Fidelity_chinese_fund_list) - set(Fidelity_us_fund_list))\n",
    "print(Fidelity_GroupB_list)"
   ]
  },
  {
   "cell_type": "markdown",
   "metadata": {},
   "source": [
    "## Load variables based on company chosen"
   ]
  },
  {
   "cell_type": "code",
   "execution_count": 30,
   "metadata": {},
   "outputs": [],
   "source": [
    "if(company=='Investco'):\n",
    "    fund_list = Investco_fund_list \n",
    "    GroupA_list = Investco_GroupA_list \n",
    "    GroupB_list = Investco_GroupB_list\n",
    "elif(company=='Allianz'):\n",
    "    fund_list = Allianz_fund_list \n",
    "    GroupA_list = Allianz_GroupA_list \n",
    "    GroupB_list = Allianz_GroupB_list\n",
    "else:\n",
    "    fund_list = Fidelity_fund_list \n",
    "    GroupA_list = Fidelity_GroupA_list \n",
    "    GroupB_list = Fidelity_GroupB_list\n",
    "\n"
   ]
  },
  {
   "cell_type": "markdown",
   "metadata": {},
   "source": [
    "# Functions"
   ]
  },
  {
   "cell_type": "code",
   "execution_count": 31,
   "metadata": {},
   "outputs": [],
   "source": [
    "def select_columns(data_frame, column_names):\n",
    "    new_frame = data_frame.loc[:, column_names]\n",
    "    return new_frame"
   ]
  },
  {
   "cell_type": "code",
   "execution_count": 32,
   "metadata": {},
   "outputs": [],
   "source": [
    "def get_start_date():\n",
    "    if (company=='Allianz'):\n",
    "        start_date = date(2001,2,1)\n",
    "    else:\n",
    "        start_date = date(2000,12,1)\n",
    "    return start_date"
   ]
  },
  {
   "cell_type": "code",
   "execution_count": 33,
   "metadata": {},
   "outputs": [],
   "source": [
    "def random_number ():\n",
    "    a_min = 0.35\n",
    "    a_max = 1\n",
    "    b_min = 0\n",
    "    b_max = 0.65\n",
    "    \n",
    "    \n",
    "    rand_fac1 = np.random.random(1)\n",
    "    rand_fac2 = np.random.random(1)\n",
    "    weight_a = a_min +(rand_fac1*(a_max-a_min))\n",
    "    weight_b = b_min +(rand_fac2*(b_max-b_min))\n",
    "    w_sum=weight_a + weight_b\n",
    "    \n",
    "    weight_a = weight_a/w_sum\n",
    "    weight_b = weight_b/w_sum\n",
    "    \n",
    "    weight_a = float(weight_a)\n",
    "    weight_b = float(weight_b)\n",
    "    return weight_a, weight_b"
   ]
  },
  {
   "cell_type": "code",
   "execution_count": 34,
   "metadata": {},
   "outputs": [],
   "source": [
    "def calculate_port_vol(df_daily,  month_index,A_name, B_name, A_weight, B_weight):\n",
    "    #df_daily, df_merge_monthly, month_index, A_name, Available_B[list_num][1], A_weight, B_weight\n",
    "    port_list =[]\n",
    "    weights = np.array([A_weight, B_weight])\n",
    "\n",
    "    port_list.append(A_name)\n",
    "    port_list.append(B_name)\n",
    "         \n",
    "    #end_index= month_index.strftime('%Y-%m-%d')\n",
    "    \n",
    "    df_vol = df_daily.loc[:month_index]\n",
    "    df_vol = select_columns(df_vol,port_list)\n",
    "    \n",
    "    df_vol.replace('', np.nan, inplace=True)\n",
    "    df_vol = df_vol.dropna(how='any', axis=0)\n",
    "    \n",
    "    if(len(df_vol)==1):\n",
    "        return ''\n",
    "    \n",
    "    cov_matrix_annual = df_vol.cov() * 252\n",
    "\n",
    "    port_variance = np.dot(weights.T, np.dot(cov_matrix_annual, weights))\n",
    "    port_volatility = np.sqrt(port_variance)\n",
    "\n",
    "    return port_volatility "
   ]
  },
  {
   "cell_type": "code",
   "execution_count": 35,
   "metadata": {},
   "outputs": [],
   "source": [
    "def generate_best_portfolio(df_daily, df_merge_monthly, df_next_month, month_index, next_month_index, A_name, A_return, Available_B, df_Available_B, portfolios_number):\n",
    "    A_weight, B_weight = random_number()\n",
    "    results=[]\n",
    " \n",
    "    list_num = 0\n",
    "    j=1\n",
    "    port_return_list = np.zeros(portfolios_number*len(Available_B)) \n",
    "    \n",
    "    for index, row in df_Available_B.iterrows():  #index is date, row is name #for each B\n",
    "        if(row[j]==''):\n",
    "            break\n",
    "            \n",
    "        for i in range(portfolios_number): #run _____ times for each Group B fund\n",
    "            A_weight, B_weight = random_number()\n",
    "            port_return = A_weight * A_return + B_weight * row[j]  #calculate the return\n",
    "            port_return_list [i+list_num*portfolios_number] = port_return\n",
    "            this_month_index=month_index.strftime('%Y-%m-%d')\n",
    "            port_vol = calculate_port_vol (df_daily,  this_month_index, A_name, Available_B[list_num][1], A_weight, B_weight)           \n",
    "            results.append([month_index, A_name, Available_B[list_num][1],A_weight, B_weight, port_return, port_vol,\"\",\"\",\"\"])\n",
    "        list_num+=1\n",
    "    \n",
    "    df_results = pd.DataFrame(results,columns = [\"Date\",\"A_name\",\"B_name\",\"A_weight\",\"B_weight\",\"port_return\",\"port_vol\",\"flag\",\"next_month_port_return\",\"next_month_port_vol\"])   \n",
    "    df_results.set_index(\"Date\", inplace = True) \n",
    "    return_max_index = port_return_list.argmax()\n",
    "    df_best_B_port = pd.DataFrame(df_results.iloc[[return_max_index]])\n",
    "    \n",
    "    best_A = df_best_B_port.iloc[0]['A_name']\n",
    "    best_B = df_best_B_port.iloc[0]['B_name']\n",
    "    next_month_port_return = df_best_B_port.iloc[0]['A_weight']*df_next_month.iloc[-1][best_A ] + df_best_B_port.iloc[0]['B_weight']*df_next_month.iloc[-1][best_B]\n",
    "    \n",
    "    next_month_port_vol = calculate_port_vol(df_daily, next_month_index, best_A, best_B, df_best_B_port.iloc[0]['A_weight'], df_best_B_port.iloc[0]['B_weight'])\n",
    "    \n",
    "    df_best_B_port.at[month_index,'next_month_port_return']= next_month_port_return\n",
    "    df_best_B_port.at[month_index,'next_month_port_vol']= next_month_port_vol\n",
    "\n",
    "    \n",
    "    #mark flag\n",
    "    row_number = df_merge_monthly.index.get_loc(this_month_index)\n",
    "    HSI_return = df_merge_monthly.iloc[row_number+1]['HSI Adj Close']\n",
    "    HSI_vol = df_merge_monthly.iloc[row_number+1]['HSI_volatility']\n",
    "\n",
    "    #if next_month_port_return >=df_best_B_port.iloc[0]['port_return'] and next_month_port_return >=HSI_return and next_month_port_vol <=HSI_vol:\n",
    "    if next_month_port_return >=HSI_return and next_month_port_vol <=HSI_vol:\n",
    "        df_best_B_port.at[month_index,'flag'] = 1\n",
    "    else:\n",
    "        df_best_B_port.at[month_index,'flag'] = 0\n",
    "    \n",
    "    \n",
    "    return df_best_B_port"
   ]
  },
  {
   "cell_type": "markdown",
   "metadata": {},
   "source": [
    "## HSI Monthly Return"
   ]
  },
  {
   "cell_type": "code",
   "execution_count": 36,
   "metadata": {},
   "outputs": [],
   "source": [
    "def get_HSI_monthly():\n",
    "    #read file and set index\n",
    "    hsipath =\"C:/Users/thy10/Desktop/AREIX/HSI.csv\"  #read file\n",
    "    df_HSI = pd.DataFrame(pd.read_csv(hsipath, index_col='Date', parse_dates=True),columns=['Adj Close']) #set df\n",
    "    df_HSI.rename({\"Adj Close\":\"HSI Adj Close\"},axis = \"columns\", inplace=True)\n",
    "    df_HSI.index.names = ['Valuation Date'] \n",
    "    df_HSI['HSI Adj Close'].replace('', np.nan, inplace=True)\n",
    "    df_HSI=df_HSI.dropna(how='any', axis=0)\n",
    "\n",
    "    #***for monthly return***\n",
    "    df1=df_HSI\n",
    "    df1.index = pd.to_datetime(df1.index, format=\"%y%m%d\").to_period('M')\n",
    "    \n",
    "    #to get the first and last\n",
    "    df_start=df1.groupby(df1.index).head(1)\n",
    "    df_end=df1.groupby(df1.index).tail(1)\n",
    "    \n",
    "    df_HSI_monthly = df_start\n",
    "    \n",
    "    #calculate return\n",
    "    for i in range(len(df_start)):\n",
    "        if(df_end.iloc[i][0]==df_start.iloc[i][0]and i!=0):\n",
    "            monthly_return = (df_end.iloc[i][0]-df_end.iloc[i-1][0])/df_end.iloc[i-1][0]\n",
    "        else:\n",
    "            monthly_return = (df_end.iloc[i][0]-df_start.iloc[i][0])/df_start.iloc[i][0]    \n",
    "        df_HSI_monthly.iloc[i]['HSI Adj Close'] = monthly_return     \n",
    "    \n",
    "    #***for volatility***\n",
    "    df_HSI_return = df_HSI.pct_change()\n",
    "    HSI_vol_list = []\n",
    "    for index, row in df_HSI_monthly.iterrows():\n",
    "        this_month_index=index.strftime('%Y-%m-%d')\n",
    "        HSI_vol_list.append(calculate_port_vol(df_HSI_return,  this_month_index, 'HSI Adj Close', 'HSI Adj Close', 0.5, 0.5))\n",
    "    df_HSI_monthly['HSI_volatility'] = HSI_vol_list\n",
    "    \n",
    "    #output as csv\n",
    "    #df_HSI_monthly.to_csv('df_HSI2_monthly.csv')\n",
    "    return df_HSI_monthly"
   ]
  },
  {
   "cell_type": "markdown",
   "metadata": {},
   "source": [
    "## Set company as df"
   ]
  },
  {
   "cell_type": "code",
   "execution_count": 37,
   "metadata": {
    "scrolled": true
   },
   "outputs": [
    {
     "name": "stdout",
     "output_type": "stream",
     "text": [
      "=== Fidelity Saved As df ===\n",
      "=== Fidelity Monthly Return Saved As df_monthy ===\n"
     ]
    }
   ],
   "source": [
    "df = pd.DataFrame(pd.read_csv(\"C:/Users/thy10/Desktop/AREIX/AREIX Jupyter/\" + company+\".csv\", index_col='Valuation Date', parse_dates=True))\n",
    "df=select_columns(df,fund_list) \n",
    "print(\"=== \"+ company +\" Saved As df ===\")\n",
    "\n",
    "#read monthly return csv\n",
    "df_monthly_path = \"C:/Users/thy10/Desktop/AREIX/AREIX Jupyter/\"+company+\"_df_monthly.csv\"\n",
    "df_monthly = pd.DataFrame(pd.read_csv(df_monthly_path, index_col='Valuation Date', parse_dates=True))\n",
    "df_monthly.index = pd.to_datetime(df_monthly.index, format=\"%d%m%y\").to_period('M')\n",
    "df_monthly = df_monthly.fillna('')\n",
    "if(company=='Fidelity'):\n",
    "    df_monthly=df_monthly.drop(df_monthly.index[0])\n",
    "print(\"=== \"+ company +\" Monthly Return Saved As df_monthy ===\")"
   ]
  },
  {
   "cell_type": "markdown",
   "metadata": {},
   "source": [
    "# Main function"
   ]
  },
  {
   "cell_type": "code",
   "execution_count": 38,
   "metadata": {},
   "outputs": [
    {
     "name": "stderr",
     "output_type": "stream",
     "text": [
      "<ipython-input-36-2536c9d9ce17>:34: SettingWithCopyWarning: \n",
      "A value is trying to be set on a copy of a slice from a DataFrame.\n",
      "Try using .loc[row_indexer,col_indexer] = value instead\n",
      "\n",
      "See the caveats in the documentation: https://pandas.pydata.org/pandas-docs/stable/user_guide/indexing.html#returning-a-view-versus-a-copy\n",
      "  df_HSI_monthly['HSI_volatility'] = HSI_vol_list\n"
     ]
    }
   ],
   "source": [
    "#get HSI monthly return from funciton\n",
    "df_HSI_monthly = get_HSI_monthly()\n",
    "\n",
    "#df daily return\n",
    "df_daily=df.pct_change()\n",
    "\n",
    "#merge df_monthly with HSI monthly return\n",
    "df_merge_monthly = pd.merge(df_monthly, df_HSI_monthly, on='Valuation Date', how='left')  #merge their return\n",
    "#df_merge_monthly.to_csv('df_merge_monthly.csv')"
   ]
  },
  {
   "cell_type": "code",
   "execution_count": 39,
   "metadata": {
    "scrolled": true
   },
   "outputs": [
    {
     "name": "stdout",
     "output_type": "stream",
     "text": [
      "Start Creating Porfolios...\n",
      "=== Finished 2000-12 ===\n",
      "=== Finished 2001-01 ===\n",
      "=== Finished 2001-02 ===\n",
      "=== Finished 2001-03 ===\n",
      "=== Finished 2001-04 ===\n",
      "=== Finished 2001-05 ===\n",
      "=== Finished 2001-06 ===\n",
      "=== Finished 2001-07 ===\n",
      "=== Finished 2001-08 ===\n",
      "=== Finished 2001-09 ===\n",
      "=== Finished 2001-10 ===\n",
      "=== Finished 2001-11 ===\n",
      "=== Finished 2001-12 ===\n",
      "=== Finished 2002-01 ===\n",
      "=== Finished 2002-02 ===\n",
      "=== Finished 2002-03 ===\n",
      "=== Finished 2002-04 ===\n",
      "=== Finished 2002-05 ===\n",
      "=== Finished 2002-06 ===\n",
      "=== Finished 2002-07 ===\n",
      "=== Finished 2002-08 ===\n",
      "=== Finished 2002-09 ===\n",
      "=== Finished 2002-10 ===\n",
      "=== Finished 2002-11 ===\n",
      "=== Finished 2002-12 ===\n",
      "=== Finished 2003-01 ===\n",
      "=== Finished 2003-02 ===\n",
      "=== Finished 2003-03 ===\n",
      "=== Finished 2003-04 ===\n",
      "=== Finished 2003-05 ===\n",
      "=== Finished 2003-06 ===\n",
      "=== Finished 2003-07 ===\n",
      "=== Finished 2003-08 ===\n",
      "=== Finished 2003-09 ===\n",
      "=== Finished 2003-10 ===\n",
      "=== Finished 2003-11 ===\n",
      "=== Finished 2003-12 ===\n",
      "=== Finished 2004-01 ===\n",
      "=== Finished 2004-02 ===\n",
      "=== Finished 2004-03 ===\n",
      "=== Finished 2004-04 ===\n",
      "=== Finished 2004-05 ===\n",
      "=== Finished 2004-06 ===\n",
      "=== Finished 2004-07 ===\n",
      "=== Finished 2004-08 ===\n",
      "=== Finished 2004-09 ===\n",
      "=== Finished 2004-10 ===\n",
      "=== Finished 2004-11 ===\n",
      "=== Finished 2004-12 ===\n",
      "=== Finished 2005-01 ===\n",
      "=== Finished 2005-02 ===\n",
      "=== Finished 2005-03 ===\n",
      "=== Finished 2005-04 ===\n",
      "=== Finished 2005-05 ===\n",
      "=== Finished 2005-06 ===\n",
      "=== Finished 2005-07 ===\n",
      "=== Finished 2005-08 ===\n",
      "=== Finished 2005-09 ===\n",
      "=== Finished 2005-10 ===\n",
      "=== Finished 2005-11 ===\n",
      "=== Finished 2005-12 ===\n",
      "=== Finished 2006-01 ===\n",
      "=== Finished 2006-02 ===\n",
      "=== Finished 2006-03 ===\n",
      "=== Finished 2006-04 ===\n",
      "=== Finished 2006-05 ===\n",
      "=== Finished 2006-06 ===\n",
      "=== Finished 2006-07 ===\n",
      "=== Finished 2006-08 ===\n",
      "=== Finished 2006-09 ===\n",
      "=== Finished 2006-10 ===\n",
      "=== Finished 2006-11 ===\n",
      "=== Finished 2006-12 ===\n",
      "=== Finished 2007-01 ===\n",
      "=== Finished 2007-02 ===\n",
      "=== Finished 2007-03 ===\n",
      "=== Finished 2007-04 ===\n",
      "=== Finished 2007-05 ===\n",
      "=== Finished 2007-06 ===\n",
      "=== Finished 2007-07 ===\n",
      "=== Finished 2007-08 ===\n",
      "=== Finished 2007-09 ===\n",
      "=== Finished 2007-10 ===\n",
      "=== Finished 2007-11 ===\n",
      "=== Finished 2007-12 ===\n",
      "=== Finished 2008-01 ===\n",
      "=== Finished 2008-02 ===\n",
      "=== Finished 2008-03 ===\n",
      "=== Finished 2008-04 ===\n",
      "=== Finished 2008-05 ===\n",
      "=== Finished 2008-06 ===\n",
      "=== Finished 2008-07 ===\n",
      "=== Finished 2008-08 ===\n",
      "=== Finished 2008-09 ===\n",
      "=== Finished 2008-10 ===\n",
      "=== Finished 2008-11 ===\n",
      "=== Finished 2008-12 ===\n",
      "=== Finished 2009-01 ===\n",
      "=== Finished 2009-02 ===\n",
      "=== Finished 2009-03 ===\n",
      "=== Finished 2009-04 ===\n",
      "=== Finished 2009-05 ===\n",
      "=== Finished 2009-06 ===\n",
      "=== Finished 2009-07 ===\n",
      "=== Finished 2009-08 ===\n",
      "=== Finished 2009-09 ===\n",
      "=== Finished 2009-10 ===\n",
      "=== Finished 2009-11 ===\n",
      "=== Finished 2009-12 ===\n",
      "=== Finished 2010-01 ===\n",
      "=== Finished 2010-02 ===\n",
      "=== Finished 2010-03 ===\n",
      "=== Finished 2010-04 ===\n",
      "=== Finished 2010-05 ===\n",
      "=== Finished 2010-06 ===\n",
      "=== Finished 2010-07 ===\n",
      "=== Finished 2010-08 ===\n",
      "=== Finished 2010-09 ===\n",
      "=== Finished 2010-10 ===\n",
      "=== Finished 2010-11 ===\n",
      "=== Finished 2010-12 ===\n",
      "=== Finished 2011-01 ===\n",
      "=== Finished 2011-02 ===\n",
      "=== Finished 2011-03 ===\n",
      "=== Finished 2011-04 ===\n",
      "=== Finished 2011-05 ===\n",
      "=== Finished 2011-06 ===\n",
      "=== Finished 2011-07 ===\n",
      "=== Finished 2011-08 ===\n",
      "=== Finished 2011-09 ===\n",
      "=== Finished 2011-10 ===\n",
      "=== Finished 2011-11 ===\n",
      "=== Finished 2011-12 ===\n",
      "=== Finished 2012-01 ===\n",
      "=== Finished 2012-02 ===\n",
      "=== Finished 2012-03 ===\n",
      "=== Finished 2012-04 ===\n",
      "=== Finished 2012-05 ===\n",
      "=== Finished 2012-06 ===\n",
      "=== Finished 2012-07 ===\n",
      "=== Finished 2012-08 ===\n",
      "=== Finished 2012-09 ===\n",
      "=== Finished 2012-10 ===\n",
      "=== Finished 2012-11 ===\n",
      "=== Finished 2012-12 ===\n",
      "=== Finished 2013-01 ===\n",
      "=== Finished 2013-02 ===\n",
      "=== Finished 2013-03 ===\n",
      "=== Finished 2013-04 ===\n",
      "=== Finished 2013-05 ===\n"
     ]
    },
    {
     "name": "stderr",
     "output_type": "stream",
     "text": [
      "C:\\Users\\thy10\\anaconda3\\lib\\site-packages\\numpy\\lib\\function_base.py:393: RuntimeWarning: Mean of empty slice.\n",
      "  avg = a.mean(axis)\n",
      "C:\\Users\\thy10\\anaconda3\\lib\\site-packages\\numpy\\core\\_methods.py:153: RuntimeWarning: invalid value encountered in true_divide\n",
      "  ret = um.true_divide(\n",
      "C:\\Users\\thy10\\anaconda3\\lib\\site-packages\\pandas\\core\\frame.py:7605: RuntimeWarning: Degrees of freedom <= 0 for slice\n",
      "  baseCov = np.cov(mat.T)\n",
      "C:\\Users\\thy10\\anaconda3\\lib\\site-packages\\numpy\\lib\\function_base.py:2455: RuntimeWarning: divide by zero encountered in true_divide\n",
      "  c *= np.true_divide(1, fact)\n",
      "C:\\Users\\thy10\\anaconda3\\lib\\site-packages\\numpy\\lib\\function_base.py:2455: RuntimeWarning: invalid value encountered in multiply\n",
      "  c *= np.true_divide(1, fact)\n"
     ]
    },
    {
     "name": "stdout",
     "output_type": "stream",
     "text": [
      "=== Finished 2013-06 ===\n",
      "=== Finished 2013-07 ===\n",
      "=== Finished 2013-08 ===\n",
      "=== Finished 2013-09 ===\n",
      "=== Finished 2013-10 ===\n",
      "=== Finished 2013-11 ===\n",
      "=== Finished 2013-12 ===\n",
      "=== Finished 2014-01 ===\n",
      "=== Finished 2014-02 ===\n",
      "=== Finished 2014-03 ===\n",
      "=== Finished 2014-04 ===\n",
      "=== Finished 2014-05 ===\n",
      "=== Finished 2014-06 ===\n",
      "=== Finished 2014-07 ===\n",
      "=== Finished 2014-08 ===\n",
      "=== Finished 2014-09 ===\n",
      "=== Finished 2014-10 ===\n",
      "=== Finished 2014-11 ===\n",
      "=== Finished 2014-12 ===\n",
      "=== Finished 2015-01 ===\n",
      "=== Finished 2015-02 ===\n",
      "=== Finished 2015-03 ===\n",
      "=== Finished 2015-04 ===\n",
      "=== Finished 2015-05 ===\n",
      "=== Finished 2015-06 ===\n",
      "=== Finished 2015-07 ===\n",
      "=== Finished 2015-08 ===\n",
      "=== Finished 2015-09 ===\n",
      "=== Finished 2015-10 ===\n",
      "=== Finished 2015-11 ===\n",
      "=== Finished 2015-12 ===\n",
      "=== Finished 2016-01 ===\n",
      "=== Finished 2016-02 ===\n",
      "=== Finished 2016-03 ===\n",
      "=== Finished 2016-04 ===\n",
      "=== Finished 2016-05 ===\n",
      "=== Finished 2016-06 ===\n",
      "=== Finished 2016-07 ===\n",
      "=== Finished 2016-08 ===\n",
      "=== Finished 2016-09 ===\n",
      "=== Finished 2016-10 ===\n",
      "=== Finished 2016-11 ===\n",
      "=== Finished 2016-12 ===\n",
      "=== Finished 2017-01 ===\n",
      "=== Finished 2017-02 ===\n",
      "=== Finished 2017-03 ===\n",
      "=== Finished 2017-04 ===\n",
      "=== Finished 2017-05 ===\n",
      "=== Finished 2017-06 ===\n",
      "=== Finished 2017-07 ===\n",
      "=== Finished 2017-08 ===\n",
      "=== Finished 2017-09 ===\n",
      "=== Finished 2017-10 ===\n",
      "=== Finished 2017-11 ===\n",
      "=== Finished 2017-12 ===\n",
      "=== Finished 2018-01 ===\n",
      "=== Finished 2018-02 ===\n",
      "=== Finished 2018-03 ===\n",
      "=== Finished 2018-04 ===\n",
      "=== Finished 2018-05 ===\n",
      "=== Finished 2018-06 ===\n",
      "=== Finished 2018-07 ===\n",
      "=== Finished 2018-08 ===\n",
      "=== Finished 2018-09 ===\n",
      "=== Finished 2018-10 ===\n",
      "=== Finished 2018-11 ===\n",
      "=== Finished 2018-12 ===\n",
      "=== Finished 2019-01 ===\n",
      "=== Finished 2019-02 ===\n",
      "=== Finished 2019-03 ===\n",
      "=== Finished 2019-04 ===\n",
      "=== Finished 2019-05 ===\n",
      "=== Finished 2019-06 ===\n",
      "=== Finished 2019-07 ===\n",
      "=== Finished 2019-08 ===\n",
      "=== Finished 2019-09 ===\n",
      "=== Finished 2019-10 ===\n",
      "=== Finished 2019-11 ===\n",
      "=== Finished 2019-12 ===\n",
      "=== Finished 2020-01 ===\n",
      "=== Finished 2020-02 ===\n",
      "=== Finished 2020-03 ===\n",
      "=== Finished 2020-04 ===\n",
      "=== Finished 2020-05 ===\n",
      "=== Finished 2020-06 ===\n",
      "=== Finished 2020-07 ===\n",
      "=== Finished 2020-08 ===\n",
      "=== Finished 2020-09 ===\n",
      "Completed Creating Porfolios\n"
     ]
    }
   ],
   "source": [
    "df_portfolios=[]\n",
    "i=1\n",
    "\n",
    "start_date=get_start_date()\n",
    "end_date = start_date + relativedelta(months=+1)\n",
    "start_index = start_date.strftime('%Y-%m')\n",
    "end_index= end_date.strftime('%Y-%m')\n",
    "print(\"Start Creating Porfolios...\")\n",
    "for index, row in df_merge_monthly.iterrows():  #for each month\n",
    "    if(i==len(df_merge_monthly)-1):\n",
    "        break\n",
    "\n",
    "    df_next_month = df_merge_monthly.loc[start_index:end_index] #get next month\n",
    "    \n",
    "    Available_B = []\n",
    "    for b in GroupB_list:  #create a df of B that is available at each month\n",
    "        if row[b]!='':\n",
    "            Available_B.append([index,b,row[b]])\n",
    "    df_Available_B = pd.DataFrame(Available_B,columns = [\"Valuation Date\",\"B_name\",\"B_return\"])   #df of B that is available at each day\n",
    "    df_Available_B.set_index(\"Valuation Date\", inplace = True)\n",
    "    \n",
    "    for a in GroupA_list:  #for each A \n",
    "        #print(\"index is \" + str(index) + \"checking 1: A_name is \" + a)\n",
    "        if row[a]!='':\n",
    "            df_portfolios.append(generate_best_portfolio (df_daily, df_merge_monthly, df_next_month,index, end_index,a, row[a], Available_B, df_Available_B, portfolios_number))\n",
    "                                                    #df_merge_monthly, df_next_month, month_index, next_month_index, A_name, A_return, Available_B, df_Available_B, portfolios_number\n",
    "        #print(\"=== Finished \"+a+\" ===\")\n",
    "    i+=1\n",
    "    start_date = end_date\n",
    "    end_date = start_date + relativedelta(months=+1)\n",
    "    start_index = start_date.strftime('%Y-%m')\n",
    "    end_index= end_date.strftime('%Y-%m')\n",
    "    print(\"=== Finished \"+str(index)+\" ===\")\n",
    "print(\"Completed Creating Porfolios\")    \n",
    "\n"
   ]
  },
  {
   "cell_type": "markdown",
   "metadata": {},
   "source": [
    "## Output as csv"
   ]
  },
  {
   "cell_type": "code",
   "execution_count": 40,
   "metadata": {
    "scrolled": true
   },
   "outputs": [],
   "source": [
    "df_portfolios_name = \"df_portfolios_\"+str(company)+\".csv\"\n",
    "df_portfolios = pd.concat(df_portfolios)\n",
    "df_portfolios.to_csv(df_portfolios_name)\n"
   ]
  },
  {
   "cell_type": "markdown",
   "metadata": {},
   "source": [
    "## Details of the portfolios"
   ]
  },
  {
   "cell_type": "code",
   "execution_count": 41,
   "metadata": {},
   "outputs": [
    {
     "name": "stdout",
     "output_type": "stream",
     "text": [
      "--- Number of flags ---\n",
      "1    506\n",
      "0    453\n",
      "Name: flag, dtype: int64\n"
     ]
    }
   ],
   "source": [
    "print(\"--- Number of flags ---\")\n",
    "print(df_portfolios['flag'].value_counts())"
   ]
  }
 ],
 "metadata": {
  "kernelspec": {
   "display_name": "Python 3",
   "language": "python",
   "name": "python3"
  },
  "language_info": {
   "codemirror_mode": {
    "name": "ipython",
    "version": 3
   },
   "file_extension": ".py",
   "mimetype": "text/x-python",
   "name": "python",
   "nbconvert_exporter": "python",
   "pygments_lexer": "ipython3",
   "version": "3.8.3"
  }
 },
 "nbformat": 4,
 "nbformat_minor": 4
}
