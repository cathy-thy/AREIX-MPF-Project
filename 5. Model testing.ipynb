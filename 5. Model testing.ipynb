{
 "cells": [
  {
   "cell_type": "code",
   "execution_count": 281,
   "metadata": {},
   "outputs": [],
   "source": [
    "import pandas as pd\n",
    "import statsmodels.formula.api as smf\n",
    "import numpy as np\n",
    "import matplotlib.pyplot as plt\n"
   ]
  },
  {
   "cell_type": "code",
   "execution_count": null,
   "metadata": {},
   "outputs": [],
   "source": []
  },
  {
   "cell_type": "code",
   "execution_count": 282,
   "metadata": {},
   "outputs": [
    {
     "name": "stdout",
     "output_type": "stream",
     "text": [
      "                              A_name                         B_name  A_weight  \\\n",
      "Date                                                                            \n",
      "2001-02  Allianz Capital Stable Fund  Allianz MPF Conservative Fund  0.356652   \n",
      "2001-02   Allianz Stable Growth Fund  Allianz MPF Conservative Fund  0.388420   \n",
      "2001-03  Allianz Capital Stable Fund  Allianz MPF Conservative Fund  0.364209   \n",
      "2001-03   Allianz Stable Growth Fund  Allianz MPF Conservative Fund  0.354557   \n",
      "2001-04  Allianz Capital Stable Fund            Allianz Growth Fund  0.359266   \n",
      "\n",
      "         B_weight  port_return  port_vol  flag  next_month_port_return  \\\n",
      "Date                                                                     \n",
      "2001-02  0.643348    -0.005180       NaN     1               -0.012893   \n",
      "2001-02  0.611580    -0.011834       NaN     1               -0.021841   \n",
      "2001-03  0.635791    -0.013237  0.088578     0                0.008664   \n",
      "2001-03  0.645443    -0.019647  0.101885     0                0.011364   \n",
      "2001-04  0.640734     0.037277  0.884258     0               -0.008784   \n",
      "\n",
      "         next_month_port_vol  \n",
      "Date                          \n",
      "2001-02             0.086587  \n",
      "2001-02             0.112321  \n",
      "2001-03             0.176085  \n",
      "2001-03             0.253095  \n",
      "2001-04             0.735674  \n"
     ]
    }
   ],
   "source": [
    "\n",
    "company = 'Allianz500'\n",
    "df_portfolios = pd.DataFrame(pd.read_csv('C:/Users/thy10/Desktop/AREIX/AREIX Jupyter/df_portfolios_'+company+'.csv', header = 0, index_col=0))\n",
    "print(df_portfolios.head())"
   ]
  },
  {
   "cell_type": "code",
   "execution_count": 283,
   "metadata": {
    "scrolled": true
   },
   "outputs": [
    {
     "name": "stdout",
     "output_type": "stream",
     "text": [
      "[0.42387809 0.42387809 0.23183069 ... 0.05383796 0.05383796 0.05383796]\n"
     ]
    }
   ],
   "source": [
    "import lightgbm as lgb\n",
    "from sklearn.preprocessing import StandardScaler\n",
    "model = lgb.Booster(model_file='lgb_classifier.txt')\n",
    "\n",
    "X= df_portfolios.iloc[:,[2,3,4,5]].values\n",
    "y=df_portfolios.iloc[:,6].values\n",
    "\n",
    "y_pred = model.predict(X)\n",
    "print(y_pred)\n",
    "for i in range(len(y_pred)):\n",
    "    if (y_pred[i] >= 0.4):  #0.4\n",
    "        y_pred[i] = 1\n",
    "    else:\n",
    "        y_pred[i] = 0\n",
    "\n",
    "\n"
   ]
  },
  {
   "cell_type": "code",
   "execution_count": 284,
   "metadata": {},
   "outputs": [
    {
     "name": "stdout",
     "output_type": "stream",
     "text": [
      "accuracy checking\n"
     ]
    },
    {
     "data": {
      "text/plain": [
       "0.637246963562753"
      ]
     },
     "execution_count": 284,
     "metadata": {},
     "output_type": "execute_result"
    }
   ],
   "source": [
    "from sklearn.metrics import accuracy_score\n",
    "accuracy = accuracy_score(y_pred, y)\n",
    "print(\"accuracy checking\")\n",
    "accuracy"
   ]
  },
  {
   "cell_type": "markdown",
   "metadata": {},
   "source": [
    "## Plot importance graph"
   ]
  },
  {
   "cell_type": "code",
   "execution_count": 285,
   "metadata": {
    "scrolled": false
   },
   "outputs": [
    {
     "data": {
      "text/plain": [
       "<Figure size 864x432 with 0 Axes>"
      ]
     },
     "metadata": {},
     "output_type": "display_data"
    },
    {
     "data": {
      "image/png": "[encoded data removed]",
      "text/plain": [
       "<Figure size 432x288 with 1 Axes>"
      ]
     },
     "metadata": {
      "needs_background": "light"
     },
     "output_type": "display_data"
    }
   ],
   "source": [
    "plt.figure(figsize=(12,6))\n",
    "lgb.plot_importance(model, max_num_features=30)\n",
    "plt.title(\"Feature Importance\")\n",
    "plt.show()"
   ]
  },
  {
   "cell_type": "markdown",
   "metadata": {},
   "source": [
    "## Confusion Metrics"
   ]
  },
  {
   "cell_type": "code",
   "execution_count": 286,
   "metadata": {},
   "outputs": [
    {
     "data": {
      "text/plain": [
       "<matplotlib.axes._subplots.AxesSubplot at 0x2bd9bd1ca90>"
      ]
     },
     "execution_count": 286,
     "metadata": {},
     "output_type": "execute_result"
    },
    {
     "data": {
      "image/png": "[encoded data removed]",
      "text/plain": [
       "<Figure size 432x288 with 2 Axes>"
      ]
     },
     "metadata": {
      "needs_background": "light"
     },
     "output_type": "display_data"
    }
   ],
   "source": [
    "import seaborn as sns # statistical data visualization\n",
    "from sklearn.metrics import confusion_matrix\n",
    "cm = confusion_matrix(y, y_pred)\n",
    "cm_matrix = pd.DataFrame(data=cm, columns=['Actual Positive:1', 'Actual Negative:0'], \n",
    "                                 index=['Predict Positive:1', 'Predict Negative:0'])\n",
    "sns.heatmap(cm_matrix, annot=True, fmt='d', cmap='YlGnBu')"
   ]
  },
  {
   "cell_type": "markdown",
   "metadata": {},
   "source": [
    "## Parameters Tuning"
   ]
  },
  {
   "cell_type": "markdown",
   "metadata": {},
   "source": [
    "## Output"
   ]
  },
  {
   "cell_type": "code",
   "execution_count": null,
   "metadata": {},
   "outputs": [],
   "source": []
  },
  {
   "cell_type": "code",
   "execution_count": null,
   "metadata": {},
   "outputs": [],
   "source": []
  },
  {
   "cell_type": "code",
   "execution_count": null,
   "metadata": {},
   "outputs": [],
   "source": []
  },
  {
   "cell_type": "code",
   "execution_count": null,
   "metadata": {},
   "outputs": [],
   "source": [
    "\n",
    "    "
   ]
  },
  {
   "cell_type": "code",
   "execution_count": null,
   "metadata": {},
   "outputs": [],
   "source": []
  },
  {
   "cell_type": "code",
   "execution_count": null,
   "metadata": {},
   "outputs": [],
   "source": []
  }
 ],
 "metadata": {
  "kernelspec": {
   "display_name": "Python 3",
   "language": "python",
   "name": "python3"
  },
  "language_info": {
   "codemirror_mode": {
    "name": "ipython",
    "version": 3
   },
   "file_extension": ".py",
   "mimetype": "text/x-python",
   "name": "python",
   "nbconvert_exporter": "python",
   "pygments_lexer": "ipython3",
   "version": "3.8.3"
  }
 },
 "nbformat": 4,
 "nbformat_minor": 4
}
