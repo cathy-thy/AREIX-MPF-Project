{
 "cells": [
  {
   "cell_type": "code",
   "execution_count": 14,
   "metadata": {},
   "outputs": [],
   "source": [
    "import pandas as pd\n",
    "import os \n",
    "from os import listdir\n",
    "from os.path import isfile, join\n",
    "import matplotlib.pyplot as plt\n",
    "import matplotlib.ticker as ticker\n",
    "import numpy as np\n",
    "\n",
    "company = \"Fidelity\""
   ]
  },
  {
   "cell_type": "code",
   "execution_count": 15,
   "metadata": {
    "scrolled": true
   },
   "outputs": [
    {
     "name": "stdout",
     "output_type": "stream",
     "text": [
      "['Fidelity Age 65 Plus Fund', 'Fidelity Asia Pacific Equity Fund', 'Fidelity Balanced Fund', 'Fidelity Capital Stable Fund', 'Fidelity Core Accumulation Fund', 'Fidelity Global Equity Fund', 'Fidelity Growth Fund', 'Fidelity Hong Kong Bond Fund', 'Fidelity Hong Kong Equity Fund', 'Fidelity Hong Kong Tracker Fund', 'Fidelity MPF Conservative Fund', 'Fidelity RMB Bond Fund', 'Fidelity World Bond Fund']\n"
     ]
    }
   ],
   "source": [
    "'''\n",
    "company\n",
    "To concate data and saved as df(company).csv\n",
    "'''\n",
    "\n",
    "folderpath = \"C:/Users/thy10/Desktop/AREIX/MPF Data/\" + company+\" csv/\"\n",
    "\n",
    "dfs = [] #to store dataframe in loop\n",
    "labelname_list=[]\n",
    "# a list that stores all the csv name\n",
    "filelist = [f for f in listdir(folderpath) if isfile(join(folderpath, f))]\n",
    "\n",
    "for file in filelist:\n",
    "    filepath = folderpath + file\n",
    "    #get the name of the file\n",
    "    base = os.path.basename(filepath)\n",
    "    labelname=os.path.splitext(base)[0] \n",
    "    readfile = pd.read_csv(filepath, index_col='Valuation Date', parse_dates=True) #set date as index\n",
    "    \n",
    "    df=pd.DataFrame(readfile, columns=[\"Unit NAV\"])\n",
    "    df.rename({\"Unit NAV\": labelname},axis = \"columns\", inplace=True) #rename column\n",
    "    df=df.sort_index(ascending=False)\n",
    "    dfs.append(df)\n",
    "    labelname_list.append(labelname)\n",
    "#to combine the stored dataframes\n",
    "dfA = pd.concat(dfs, axis=1)  \n",
    "dfA.to_csv(company+'.csv') #save as csv\n",
    "\n",
    "print(labelname_list)"
   ]
  },
  {
   "cell_type": "code",
   "execution_count": null,
   "metadata": {},
   "outputs": [],
   "source": []
  }
 ],
 "metadata": {
  "kernelspec": {
   "display_name": "Python 3",
   "language": "python",
   "name": "python3"
  },
  "language_info": {
   "codemirror_mode": {
    "name": "ipython",
    "version": 3
   },
   "file_extension": ".py",
   "mimetype": "text/x-python",
   "name": "python",
   "nbconvert_exporter": "python",
   "pygments_lexer": "ipython3",
   "version": "3.8.3"
  }
 },
 "nbformat": 4,
 "nbformat_minor": 4
}
