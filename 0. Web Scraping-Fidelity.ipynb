{
 "cells": [
  {
   "cell_type": "markdown",
   "metadata": {},
   "source": [
    "## Install Selenium"
   ]
  },
  {
   "cell_type": "code",
   "execution_count": 248,
   "metadata": {},
   "outputs": [
    {
     "name": "stdout",
     "output_type": "stream",
     "text": [
      "Requirement already satisfied: selenium in c:\\users\\thy10\\anaconda3\\lib\\site-packages (3.141.0)\n",
      "Requirement already satisfied: urllib3 in c:\\users\\thy10\\anaconda3\\lib\\site-packages (from selenium) (1.25.9)\n"
     ]
    }
   ],
   "source": [
    "!pip install selenium"
   ]
  },
  {
   "cell_type": "markdown",
   "metadata": {},
   "source": [
    "## Download Chromedriver\n",
    "https://selenium-python.readthedocs.io/installation.html#drivers"
   ]
  },
  {
   "cell_type": "markdown",
   "metadata": {},
   "source": [
    "## Folder location\n",
    "Where you save the csv file after web scraping"
   ]
  },
  {
   "cell_type": "code",
   "execution_count": 3,
   "metadata": {},
   "outputs": [],
   "source": [
    "path_dir: str = r\"C:\\Users\\thy10\\Desktop\\AREIX\\MPF Data\\Fidelity try\"  "
   ]
  },
  {
   "cell_type": "markdown",
   "metadata": {},
   "source": [
    "## Fund list"
   ]
  },
  {
   "cell_type": "code",
   "execution_count": 2,
   "metadata": {},
   "outputs": [
    {
     "name": "stdout",
     "output_type": "stream",
     "text": [
      "13\n"
     ]
    }
   ],
   "source": [
    "fund_list = ['Age 65 Plus Fund', 'Asia Pacific Equity Fund', 'Balanced Fund', 'Capital Stable Fund', 'Core Accumulation Fund', 'Global Equity Fund', 'Growth Fund', 'Hong Kong Bond Fund', 'Hong Kong Equity Fund', 'Fidelity Hong Kong Tracker Fund', 'MPF Conservative Fund', 'RMB Bond Fund', 'World Bond Fund']\n",
    "print(len(fund_list))"
   ]
  },
  {
   "cell_type": "markdown",
   "metadata": {},
   "source": [
    "## Web Scraping"
   ]
  },
  {
   "cell_type": "code",
   "execution_count": 3,
   "metadata": {
    "scrolled": false
   },
   "outputs": [
    {
     "name": "stderr",
     "output_type": "stream",
     "text": [
      "<ipython-input-3-2e745e1aba04>:9: DeprecationWarning: use options instead of chrome_options\n",
      "  browser = webdriver.Chrome(chrome_options=options)\n"
     ]
    },
    {
     "name": "stdout",
     "output_type": "stream",
     "text": [
      "Age 65 Plus Fund\n",
      "Asia Pacific Equity Fund\n",
      "Balanced Fund\n",
      "Capital Stable Fund\n",
      "Core Accumulation Fund\n",
      "Global Equity Fund\n",
      "Growth Fund\n",
      "Hong Kong Bond Fund\n",
      "Hong Kong Equity Fund\n"
     ]
    },
    {
     "ename": "NoSuchElementException",
     "evalue": "Message: no such element: Unable to locate element: {\"method\":\"link text\",\"selector\":\"Hong Kong Tracker Fund\"}\n  (Session info: chrome=87.0.4280.141)\n",
     "output_type": "error",
     "traceback": [
      "\u001b[1;31m---------------------------------------------------------------------------\u001b[0m",
      "\u001b[1;31mNoSuchElementException\u001b[0m                    Traceback (most recent call last)",
      "\u001b[1;32m<ipython-input-3-2e745e1aba04>\u001b[0m in \u001b[0;36m<module>\u001b[1;34m\u001b[0m\n\u001b[0;32m     41\u001b[0m     \u001b[0mmain_window\u001b[0m \u001b[1;33m=\u001b[0m \u001b[0mbrowser\u001b[0m\u001b[1;33m.\u001b[0m\u001b[0mcurrent_window_handle\u001b[0m\u001b[1;33m\u001b[0m\u001b[1;33m\u001b[0m\u001b[0m\n\u001b[0;32m     42\u001b[0m \u001b[1;33m\u001b[0m\u001b[0m\n\u001b[1;32m---> 43\u001b[1;33m     \u001b[0msearch\u001b[0m\u001b[1;33m=\u001b[0m\u001b[0mbrowser\u001b[0m\u001b[1;33m.\u001b[0m\u001b[0mfind_element_by_link_text\u001b[0m\u001b[1;33m(\u001b[0m\u001b[0mfund\u001b[0m\u001b[1;33m)\u001b[0m\u001b[1;33m\u001b[0m\u001b[1;33m\u001b[0m\u001b[0m\n\u001b[0m\u001b[0;32m     44\u001b[0m     \u001b[1;31m#search.send_keys(Keys.CONTROL + 't')\u001b[0m\u001b[1;33m\u001b[0m\u001b[1;33m\u001b[0m\u001b[1;33m\u001b[0m\u001b[0m\n\u001b[0;32m     45\u001b[0m \u001b[1;33m\u001b[0m\u001b[0m\n",
      "\u001b[1;32m~\\anaconda3\\lib\\site-packages\\selenium\\webdriver\\remote\\webdriver.py\u001b[0m in \u001b[0;36mfind_element_by_link_text\u001b[1;34m(self, link_text)\u001b[0m\n\u001b[0;32m    426\u001b[0m             \u001b[0melement\u001b[0m \u001b[1;33m=\u001b[0m \u001b[0mdriver\u001b[0m\u001b[1;33m.\u001b[0m\u001b[0mfind_element_by_link_text\u001b[0m\u001b[1;33m(\u001b[0m\u001b[1;34m'Sign In'\u001b[0m\u001b[1;33m)\u001b[0m\u001b[1;33m\u001b[0m\u001b[1;33m\u001b[0m\u001b[0m\n\u001b[0;32m    427\u001b[0m         \"\"\"\n\u001b[1;32m--> 428\u001b[1;33m         \u001b[1;32mreturn\u001b[0m \u001b[0mself\u001b[0m\u001b[1;33m.\u001b[0m\u001b[0mfind_element\u001b[0m\u001b[1;33m(\u001b[0m\u001b[0mby\u001b[0m\u001b[1;33m=\u001b[0m\u001b[0mBy\u001b[0m\u001b[1;33m.\u001b[0m\u001b[0mLINK_TEXT\u001b[0m\u001b[1;33m,\u001b[0m \u001b[0mvalue\u001b[0m\u001b[1;33m=\u001b[0m\u001b[0mlink_text\u001b[0m\u001b[1;33m)\u001b[0m\u001b[1;33m\u001b[0m\u001b[1;33m\u001b[0m\u001b[0m\n\u001b[0m\u001b[0;32m    429\u001b[0m \u001b[1;33m\u001b[0m\u001b[0m\n\u001b[0;32m    430\u001b[0m     \u001b[1;32mdef\u001b[0m \u001b[0mfind_elements_by_link_text\u001b[0m\u001b[1;33m(\u001b[0m\u001b[0mself\u001b[0m\u001b[1;33m,\u001b[0m \u001b[0mtext\u001b[0m\u001b[1;33m)\u001b[0m\u001b[1;33m:\u001b[0m\u001b[1;33m\u001b[0m\u001b[1;33m\u001b[0m\u001b[0m\n",
      "\u001b[1;32m~\\anaconda3\\lib\\site-packages\\selenium\\webdriver\\remote\\webdriver.py\u001b[0m in \u001b[0;36mfind_element\u001b[1;34m(self, by, value)\u001b[0m\n\u001b[0;32m    974\u001b[0m                 \u001b[0mby\u001b[0m \u001b[1;33m=\u001b[0m \u001b[0mBy\u001b[0m\u001b[1;33m.\u001b[0m\u001b[0mCSS_SELECTOR\u001b[0m\u001b[1;33m\u001b[0m\u001b[1;33m\u001b[0m\u001b[0m\n\u001b[0;32m    975\u001b[0m                 \u001b[0mvalue\u001b[0m \u001b[1;33m=\u001b[0m \u001b[1;34m'[name=\"%s\"]'\u001b[0m \u001b[1;33m%\u001b[0m \u001b[0mvalue\u001b[0m\u001b[1;33m\u001b[0m\u001b[1;33m\u001b[0m\u001b[0m\n\u001b[1;32m--> 976\u001b[1;33m         return self.execute(Command.FIND_ELEMENT, {\n\u001b[0m\u001b[0;32m    977\u001b[0m             \u001b[1;34m'using'\u001b[0m\u001b[1;33m:\u001b[0m \u001b[0mby\u001b[0m\u001b[1;33m,\u001b[0m\u001b[1;33m\u001b[0m\u001b[1;33m\u001b[0m\u001b[0m\n\u001b[0;32m    978\u001b[0m             'value': value})['value']\n",
      "\u001b[1;32m~\\anaconda3\\lib\\site-packages\\selenium\\webdriver\\remote\\webdriver.py\u001b[0m in \u001b[0;36mexecute\u001b[1;34m(self, driver_command, params)\u001b[0m\n\u001b[0;32m    319\u001b[0m         \u001b[0mresponse\u001b[0m \u001b[1;33m=\u001b[0m \u001b[0mself\u001b[0m\u001b[1;33m.\u001b[0m\u001b[0mcommand_executor\u001b[0m\u001b[1;33m.\u001b[0m\u001b[0mexecute\u001b[0m\u001b[1;33m(\u001b[0m\u001b[0mdriver_command\u001b[0m\u001b[1;33m,\u001b[0m \u001b[0mparams\u001b[0m\u001b[1;33m)\u001b[0m\u001b[1;33m\u001b[0m\u001b[1;33m\u001b[0m\u001b[0m\n\u001b[0;32m    320\u001b[0m         \u001b[1;32mif\u001b[0m \u001b[0mresponse\u001b[0m\u001b[1;33m:\u001b[0m\u001b[1;33m\u001b[0m\u001b[1;33m\u001b[0m\u001b[0m\n\u001b[1;32m--> 321\u001b[1;33m             \u001b[0mself\u001b[0m\u001b[1;33m.\u001b[0m\u001b[0merror_handler\u001b[0m\u001b[1;33m.\u001b[0m\u001b[0mcheck_response\u001b[0m\u001b[1;33m(\u001b[0m\u001b[0mresponse\u001b[0m\u001b[1;33m)\u001b[0m\u001b[1;33m\u001b[0m\u001b[1;33m\u001b[0m\u001b[0m\n\u001b[0m\u001b[0;32m    322\u001b[0m             response['value'] = self._unwrap_value(\n\u001b[0;32m    323\u001b[0m                 response.get('value', None))\n",
      "\u001b[1;32m~\\anaconda3\\lib\\site-packages\\selenium\\webdriver\\remote\\errorhandler.py\u001b[0m in \u001b[0;36mcheck_response\u001b[1;34m(self, response)\u001b[0m\n\u001b[0;32m    240\u001b[0m                 \u001b[0malert_text\u001b[0m \u001b[1;33m=\u001b[0m \u001b[0mvalue\u001b[0m\u001b[1;33m[\u001b[0m\u001b[1;34m'alert'\u001b[0m\u001b[1;33m]\u001b[0m\u001b[1;33m.\u001b[0m\u001b[0mget\u001b[0m\u001b[1;33m(\u001b[0m\u001b[1;34m'text'\u001b[0m\u001b[1;33m)\u001b[0m\u001b[1;33m\u001b[0m\u001b[1;33m\u001b[0m\u001b[0m\n\u001b[0;32m    241\u001b[0m             \u001b[1;32mraise\u001b[0m \u001b[0mexception_class\u001b[0m\u001b[1;33m(\u001b[0m\u001b[0mmessage\u001b[0m\u001b[1;33m,\u001b[0m \u001b[0mscreen\u001b[0m\u001b[1;33m,\u001b[0m \u001b[0mstacktrace\u001b[0m\u001b[1;33m,\u001b[0m \u001b[0malert_text\u001b[0m\u001b[1;33m)\u001b[0m\u001b[1;33m\u001b[0m\u001b[1;33m\u001b[0m\u001b[0m\n\u001b[1;32m--> 242\u001b[1;33m         \u001b[1;32mraise\u001b[0m \u001b[0mexception_class\u001b[0m\u001b[1;33m(\u001b[0m\u001b[0mmessage\u001b[0m\u001b[1;33m,\u001b[0m \u001b[0mscreen\u001b[0m\u001b[1;33m,\u001b[0m \u001b[0mstacktrace\u001b[0m\u001b[1;33m)\u001b[0m\u001b[1;33m\u001b[0m\u001b[1;33m\u001b[0m\u001b[0m\n\u001b[0m\u001b[0;32m    243\u001b[0m \u001b[1;33m\u001b[0m\u001b[0m\n\u001b[0;32m    244\u001b[0m     \u001b[1;32mdef\u001b[0m \u001b[0m_value_or_default\u001b[0m\u001b[1;33m(\u001b[0m\u001b[0mself\u001b[0m\u001b[1;33m,\u001b[0m \u001b[0mobj\u001b[0m\u001b[1;33m,\u001b[0m \u001b[0mkey\u001b[0m\u001b[1;33m,\u001b[0m \u001b[0mdefault\u001b[0m\u001b[1;33m)\u001b[0m\u001b[1;33m:\u001b[0m\u001b[1;33m\u001b[0m\u001b[1;33m\u001b[0m\u001b[0m\n",
      "\u001b[1;31mNoSuchElementException\u001b[0m: Message: no such element: Unable to locate element: {\"method\":\"link text\",\"selector\":\"Hong Kong Tracker Fund\"}\n  (Session info: chrome=87.0.4280.141)\n"
     ]
    }
   ],
   "source": [
    "'''from time import sleep\n",
    "from selenium import webdriver\n",
    "check_list=[]\n",
    "options = webdriver.ChromeOptions()\n",
    "\n",
    "prefs = {\"download.default_directory\":path_dir}\n",
    "\n",
    "options.add_experimental_option('prefs', prefs)\n",
    "browser = webdriver.Chrome(chrome_options=options)\n",
    "\n",
    "\n",
    "browser.get('https://www.fidelity.com.hk/en/our-funds/mpf')\n",
    "browser.maximize_window()\n",
    "\n",
    "#for the user agreement\n",
    "cb = browser.find_element_by_xpath('//*[@id=\"overlay-region\"]/div/form/div/div[2]/div[1]')\n",
    "browser.execute_script(\"arguments[0].click();\", cb)\n",
    "#to scroll down the user agreement\n",
    "i=1\n",
    "while(i<=3):\n",
    "    a=\"//*[@id='text335']/div/div/div/ul[\"+str(i)+\"]\"\n",
    "    elem = browser.find_element_by_xpath(a)\n",
    "    all_li = elem.find_elements_by_tag_name(\"li\")\n",
    "    for li in all_li:\n",
    "        li.location_once_scrolled_into_view\n",
    "    i=i+1\n",
    "\n",
    "#accept button\n",
    "browser.find_element_by_xpath('//*[@id=\"overlay-region\"]/div/form/div/div[3]/div[1]').click() \n",
    "\n",
    "from selenium.webdriver.common.keys import Keys\n",
    "from selenium.webdriver.common.action_chains import ActionChains\n",
    "from selenium.webdriver.common.by import By\n",
    "from selenium.webdriver.support.ui import WebDriverWait as wait\n",
    "from selenium.webdriver.support import expected_conditions as EC\n",
    "\n",
    "#search for fund one by one\n",
    "for fund in fund_list:\n",
    "    # Save the window opener (current window, do not mistake with tab... not the same).\n",
    "    main_window = browser.current_window_handle\n",
    "\n",
    "    search=browser.find_element_by_link_text(fund)\n",
    "    #search.send_keys(Keys.CONTROL + 't')\n",
    "\n",
    "    # Open the link in a new tab by sending keystrokes on the element.\n",
    "    ActionChains(browser) \\\n",
    "    .key_down(Keys.CONTROL) \\\n",
    "    .click(search) \\\n",
    "    .key_up(Keys.CONTROL) \\\n",
    "    .perform()\n",
    "\n",
    "    browser.switch_to.window(browser.window_handles[1])\n",
    "    print(fund)\n",
    "\n",
    "    html = browser.find_element_by_tag_name('html')\n",
    "    html.send_keys(Keys.PAGE_DOWN)\n",
    "    #browser.find_element_by_xpath('//*[@id=\"tab-overview\"]/div/div/div[1]/div/div[1]/div/div/button[2]').click() #choose NAV\n",
    "    sleep(1)\n",
    "    NAV=wait(browser, 10).until(EC.presence_of_element_located((By.XPATH, \"//*[@id='tab-overview']/div/div/div[1]/div/div[1]/div/div/button[2]\")))\n",
    "    NAV.click()\n",
    "    launch=wait(browser, 10).until(EC.presence_of_element_located((By.XPATH, '//*[@id=\"factsheet-nav-chart\"]/div[2]/div/div[1]/dl/dd[8]/a')))\n",
    "    launch.click()\n",
    "    dl=wait(browser, 10).until(EC.presence_of_element_located((By.XPATH, '//*[@id=\"factsheet-nav-chart\"]/div[3]/div/div/a[2]')))\n",
    "    dl.click()\n",
    "    dl=wait(browser, 10).until(EC.presence_of_element_located((By.XPATH, '//*[@id=\"overlay-region\"]/div/form/div/div[3]/div')))\n",
    "    dl.click()\n",
    "    #browser.find_element_by_xpath('//*[@id=\"factsheet-nav-chart\"]/div[2]/div/div[1]/dl/dd[8]/a').click() #choose since launch\n",
    "    #browser.find_element_by_xpath('//*[@id=\"factsheet-nav-chart\"]/div[3]/div/div/a[2]').click()  #download\n",
    "    #browser.find_element_by_xpath('//*[@id=\"overlay-region\"]/div/form/div/div[3]/div').click() #confirm download\n",
    "    sleep(2)\n",
    "    browser.close()\n",
    "    sleep(1)\n",
    "    browser.switch_to.window(main_window)\n",
    "sleep(2)\n",
    "browser.quit()\n",
    "    \n",
    "    \n",
    "                                      '''"
   ]
  },
  {
   "cell_type": "code",
   "execution_count": 4,
   "metadata": {},
   "outputs": [],
   "source": [
    "def web_scrap():\n",
    "    import os\n",
    "    from time import sleep\n",
    "    from selenium import webdriver\n",
    "    try:\n",
    "        #delete file in the path \n",
    "        for count, filename in enumerate(os.listdir(path_dir)):  \n",
    "            os.remove(path_dir+\"/\"+filename)\n",
    "\n",
    "        check_list=[]\n",
    "        options = webdriver.ChromeOptions()\n",
    "\n",
    "        prefs = {\"download.default_directory\":path_dir}\n",
    "\n",
    "        options.add_experimental_option('prefs', prefs)\n",
    "        browser = webdriver.Chrome(chrome_options=options)\n",
    "\n",
    "\n",
    "        browser.get('https://www.fidelity.com.hk/en/our-funds/mpf')\n",
    "        browser.maximize_window()\n",
    "\n",
    "        #for the user agreement\n",
    "        cb = browser.find_element_by_xpath('//*[@id=\"overlay-region\"]/div/form/div/div[2]/div[1]')\n",
    "        browser.execute_script(\"arguments[0].click();\", cb)\n",
    "        #to scroll down the user agreement\n",
    "        i=1\n",
    "        while(i<=3):\n",
    "            a=\"//*[@id='text335']/div/div/div/ul[\"+str(i)+\"]\"\n",
    "            elem = browser.find_element_by_xpath(a)\n",
    "            all_li = elem.find_elements_by_tag_name(\"li\")\n",
    "            for li in all_li:\n",
    "                li.location_once_scrolled_into_view\n",
    "            i=i+1\n",
    "\n",
    "        #accept button\n",
    "        browser.find_element_by_xpath('//*[@id=\"overlay-region\"]/div/form/div/div[3]/div[1]').click() \n",
    "\n",
    "        from selenium.webdriver.common.keys import Keys\n",
    "        from selenium.webdriver.common.action_chains import ActionChains\n",
    "        from selenium.webdriver.common.by import By\n",
    "        from selenium.webdriver.support.ui import WebDriverWait as wait\n",
    "        from selenium.webdriver.support import expected_conditions as EC\n",
    "\n",
    "        #search for fund one by one\n",
    "        for fund in fund_list:\n",
    "            # Save the window opener (current window, do not mistake with tab... not the same).\n",
    "            main_window = browser.current_window_handle\n",
    "\n",
    "            search=browser.find_element_by_link_text(fund)\n",
    "            #search.send_keys(Keys.CONTROL + 't')\n",
    "\n",
    "            # Open the link in a new tab by sending keystrokes on the element.\n",
    "            ActionChains(browser) \\\n",
    "            .key_down(Keys.CONTROL) \\\n",
    "            .click(search) \\\n",
    "            .key_up(Keys.CONTROL) \\\n",
    "            .perform()\n",
    "\n",
    "            browser.switch_to.window(browser.window_handles[1])\n",
    "            print(fund)\n",
    "\n",
    "            html = browser.find_element_by_tag_name('html')\n",
    "            html.send_keys(Keys.PAGE_DOWN)\n",
    "            #browser.find_element_by_xpath('//*[@id=\"tab-overview\"]/div/div/div[1]/div/div[1]/div/div/button[2]').click() #choose NAV\n",
    "            sleep(1)\n",
    "            NAV=wait(browser, 10).until(EC.presence_of_element_located((By.XPATH, \"//*[@id='tab-overview']/div/div/div[1]/div/div[1]/div/div/button[2]\")))\n",
    "            NAV.click()\n",
    "            launch=wait(browser, 10).until(EC.presence_of_element_located((By.XPATH, '//*[@id=\"factsheet-nav-chart\"]/div[2]/div/div[1]/dl/dd[8]/a')))\n",
    "            launch.click()\n",
    "            dl=wait(browser, 10).until(EC.presence_of_element_located((By.XPATH, '//*[@id=\"factsheet-nav-chart\"]/div[3]/div/div/a[2]')))\n",
    "            dl.click()\n",
    "            dl=wait(browser, 10).until(EC.presence_of_element_located((By.XPATH, '//*[@id=\"overlay-region\"]/div/form/div/div[3]/div')))\n",
    "            dl.click()\n",
    "            #browser.find_element_by_xpath('//*[@id=\"factsheet-nav-chart\"]/div[2]/div/div[1]/dl/dd[8]/a').click() #choose since launch\n",
    "            #browser.find_element_by_xpath('//*[@id=\"factsheet-nav-chart\"]/div[3]/div/div/a[2]').click()  #download\n",
    "            #browser.find_element_by_xpath('//*[@id=\"overlay-region\"]/div/form/div/div[3]/div').click() #confirm download\n",
    "            sleep(2)\n",
    "            browser.close()\n",
    "            sleep(1)\n",
    "            browser.switch_to.window(main_window)\n",
    "        sleep(2)\n",
    "        browser.quit()\n",
    "                                      \n",
    "    except:\n",
    "        print(\"Error occured\")\n",
    "        browser.quit()\n",
    "        web_scrap()"
   ]
  },
  {
   "cell_type": "code",
   "execution_count": 5,
   "metadata": {},
   "outputs": [
    {
     "name": "stderr",
     "output_type": "stream",
     "text": [
      "<ipython-input-4-c8c3e6da7fc2>:16: DeprecationWarning: use options instead of chrome_options\n",
      "  browser = webdriver.Chrome(chrome_options=options)\n"
     ]
    },
    {
     "name": "stdout",
     "output_type": "stream",
     "text": [
      "Age 65 Plus Fund\n",
      "Asia Pacific Equity Fund\n",
      "Balanced Fund\n",
      "Capital Stable Fund\n",
      "Core Accumulation Fund\n",
      "Global Equity Fund\n",
      "Growth Fund\n",
      "Hong Kong Bond Fund\n",
      "Hong Kong Equity Fund\n",
      "Fidelity Hong Kong Tracker Fund\n",
      "MPF Conservative Fund\n",
      "RMB Bond Fund\n",
      "World Bond Fund\n"
     ]
    }
   ],
   "source": [
    "web_scrap()"
   ]
  },
  {
   "cell_type": "markdown",
   "metadata": {},
   "source": [
    "## Concate Fund\n",
    "output as Fidelity.csv"
   ]
  },
  {
   "cell_type": "code",
   "execution_count": 16,
   "metadata": {},
   "outputs": [
    {
     "name": "stdout",
     "output_type": "stream",
     "text": [
      "['Age 65 Plus Fund', 'Unnamed: 1', 'Unnamed: 2', 'Unnamed: 3', 'Unnamed: 4', 'Unnamed: 5']\n",
      "Age 65 Plus Fund\n",
      "['Core Accumulation Fund', 'Unnamed: 1', 'Unnamed: 2', 'Unnamed: 3', 'Unnamed: 4', 'Unnamed: 5']\n",
      "Core Accumulation Fund\n",
      "['Asia Pacific Equity Fund', 'Unnamed: 1', 'Unnamed: 2', 'Unnamed: 3', 'Unnamed: 4', 'Unnamed: 5']\n",
      "Asia Pacific Equity Fund\n",
      "['Balanced Fund', 'Unnamed: 1', 'Unnamed: 2', 'Unnamed: 3', 'Unnamed: 4', 'Unnamed: 5']\n",
      "Balanced Fund\n",
      "['Capital Stable Fund', 'Unnamed: 1', 'Unnamed: 2', 'Unnamed: 3', 'Unnamed: 4', 'Unnamed: 5']\n",
      "Capital Stable Fund\n",
      "['MPF Conservative Fund', 'Unnamed: 1', 'Unnamed: 2', 'Unnamed: 3', 'Unnamed: 4', 'Unnamed: 5']\n",
      "MPF Conservative Fund\n",
      "['Global Equity Fund', 'Unnamed: 1', 'Unnamed: 2', 'Unnamed: 3', 'Unnamed: 4', 'Unnamed: 5']\n",
      "Global Equity Fund\n",
      "['Growth Fund', 'Unnamed: 1', 'Unnamed: 2', 'Unnamed: 3', 'Unnamed: 4', 'Unnamed: 5']\n",
      "Growth Fund\n",
      "['Hong Kong Bond Fund', 'Unnamed: 1', 'Unnamed: 2', 'Unnamed: 3', 'Unnamed: 4', 'Unnamed: 5']\n",
      "Hong Kong Bond Fund\n",
      "['Hong Kong Equity Fund', 'Unnamed: 1', 'Unnamed: 2', 'Unnamed: 3', 'Unnamed: 4', 'Unnamed: 5']\n",
      "Hong Kong Equity Fund\n",
      "['RMB Bond Fund', 'Unnamed: 1', 'Unnamed: 2', 'Unnamed: 3', 'Unnamed: 4', 'Unnamed: 5']\n",
      "RMB Bond Fund\n",
      "['Fidelity Hong Kong Tracker Fund', 'Unnamed: 1', 'Unnamed: 2', 'Unnamed: 3', 'Unnamed: 4', 'Unnamed: 5']\n",
      "Fidelity Hong Kong Tracker Fund\n",
      "['World Bond Fund', 'Unnamed: 1', 'Unnamed: 2', 'Unnamed: 3', 'Unnamed: 4', 'Unnamed: 5']\n",
      "World Bond Fund\n"
     ]
    }
   ],
   "source": [
    "dfs=[]\n",
    "buffer=[]\n",
    "funds_monthly_list=[]#for monthly\n",
    "\n",
    "import os\n",
    "import pandas as pd\n",
    "from datetime import datetime\n",
    "for count, filename in enumerate(os.listdir(path_dir)):   \n",
    "\n",
    "    #read as df\n",
    "    filepath=path_dir+\"/\"+filename\n",
    "    df = pd.read_excel(filepath)\n",
    "    \n",
    "    buffer=df.columns.tolist()\n",
    "    print(buffer)\n",
    "    #get fund name\n",
    "    fundname=buffer[0]\n",
    "    print(fundname)\n",
    "    '''part[0]+part[1]\n",
    "    #new_name_list.append(fundname)\n",
    "    print(part[0]+part[1])\n",
    "    \n",
    "    #modify the format\n",
    "    df=df.iloc[8:,[2,3]]\n",
    "    df = df.dropna()\n",
    "    df.columns=['Valuation Date',fundname]\n",
    "    df['Valuation Date'] = pd.to_datetime(df['Valuation Date'], format=\"%Y-%m-%d\")\n",
    "    df.set_index(\"Valuation Date\", inplace = True) \n",
    "    df.sort_values(by=['Valuation Date'], inplace=True)\n",
    "    df = df.apply(pd.to_numeric, errors='ignore')\n",
    "    \n",
    "    #*****************************Daily*****************************\n",
    "    dfs.append(df)\n",
    "    #*****************************End of daily*****************************\n",
    "    \n",
    "    \n",
    "    #*****************************Monthly*****************************\n",
    "    df1=df.copy()\n",
    "    df1.index=pd.to_datetime(df1.index, format=\"%y-%m-%d\").to_period('M')\n",
    "\n",
    "    #dataframes\n",
    "    df_start=df1.groupby(df1.index).head(1)  #first one of the month\n",
    "    df_end=df1.groupby(df1.index).tail(1) #last one of the month\n",
    "    \n",
    "\n",
    "    df_fund_monthly = df_start.copy()\n",
    "\n",
    "    for i in range(len(df_start)):\n",
    "        if(df_end.iloc[i][0]==df_start.iloc[i][0]and i!=0):\n",
    "            monthly_return = (df_end.iloc[i][0]-df_end.iloc[i-1][0])/df_end.iloc[i-1][0]\n",
    "        else:\n",
    "            monthly_return = (df_end.iloc[i][0]-df_start.iloc[i][0])/df_start.iloc[i][0]    \n",
    "\n",
    "        df_fund_monthly.iloc[i][fundname] = monthly_return\n",
    "    funds_monthly_list.append(df_fund_monthly)\n",
    "    #*****************************End of monthly*****************************\n",
    "    \n",
    "    \n",
    "#print(dfs)\n",
    "dfA = pd.concat(dfs,axis=1)\n",
    "print(dfA)\n",
    "dfA.to_csv('Allianztry.csv')\n",
    "\n",
    "df_monthly = pd.concat(funds_monthly_list,axis=1)  \n",
    "df_monthly.to_csv('Allianz_df_monthly.csv')'''"
   ]
  }
 ],
 "metadata": {
  "kernelspec": {
   "display_name": "Python 3",
   "language": "python",
   "name": "python3"
  },
  "language_info": {
   "codemirror_mode": {
    "name": "ipython",
    "version": 3
   },
   "file_extension": ".py",
   "mimetype": "text/x-python",
   "name": "python",
   "nbconvert_exporter": "python",
   "pygments_lexer": "ipython3",
   "version": "3.8.3"
  }
 },
 "nbformat": 4,
 "nbformat_minor": 4
}
